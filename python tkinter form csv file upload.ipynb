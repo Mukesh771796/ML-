{
 "cells": [
  {
   "cell_type": "code",
   "execution_count": null,
   "id": "f8709ee4-90db-49fd-8c30-0a601b21c24c",
   "metadata": {},
   "outputs": [],
   "source": [
    "import tkinter as tk\n",
    "from tkinter import *\n",
    "from tkinter import ttk\n",
    "from tkinter import filedialog\n",
    "import csv\n",
    "\n",
    "def open_csv_file():\n",
    "    file_path = filedialog.askopenfilename(title=\"Open CSV File\", filetypes=[(\"CSV files\", \"*.csv\")])\n",
    "    if file_path:\n",
    "        display_csv_data(file_path)\n",
    "\n",
    "def display_csv_data(file_path):\n",
    "    try:\n",
    "        with open(file_path, 'r', newline='') as file:\n",
    "            csv_reader = csv.reader(file)\n",
    "            header = next(csv_reader)  # Read the header row\n",
    "            tree.delete(*tree.get_children())  # Clear the current data\n",
    "\n",
    "            tree[\"columns\"] = header\n",
    "            for col in header:\n",
    "                tree.heading(col, text=col)\n",
    "                tree.column(col, width=100)\n",
    "\n",
    "            for row in csv_reader:\n",
    "                tree.insert(\"\", \"end\", values=row)\n",
    "\n",
    "            status_label.config(text=f\"CSV file loaded: {file_path}\")\n",
    "\n",
    "    except Exception as e:\n",
    "        status_label.config(text=f\"Error: {str(e)}\")\n",
    "\n",
    "root = tk.Tk()\n",
    "root.title(\"CSV File Viewer\")\n",
    "\n",
    "open_button = tk.Button(root, text=\"Open CSV File\", command=open_csv_file)\n",
    "open_button.pack(padx=20, pady=20)\n",
    "\n",
    "tree = ttk.Treeview(root, show=\"headings\")\n",
    "tree.pack(padx=20, pady=20, fill=\"both\", expand=True)\n",
    "\n",
    "status_label = tk.Label(root, text=\"\", padx=20, pady=20)\n",
    "status_label.pack()\n",
    "\n",
    "root.mainloop()\n"
   ]
  }
 ],
 "metadata": {
  "kernelspec": {
   "display_name": "Python [conda env:base] *",
   "language": "python",
   "name": "conda-base-py"
  },
  "language_info": {
   "codemirror_mode": {
    "name": "ipython",
    "version": 3
   },
   "file_extension": ".py",
   "mimetype": "text/x-python",
   "name": "python",
   "nbconvert_exporter": "python",
   "pygments_lexer": "ipython3",
   "version": "3.12.3"
  }
 },
 "nbformat": 4,
 "nbformat_minor": 5
}
